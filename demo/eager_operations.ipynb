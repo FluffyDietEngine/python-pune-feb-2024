{
 "cells": [
  {
   "cell_type": "code",
   "execution_count": 1,
   "metadata": {},
   "outputs": [],
   "source": [
    "import polars as pl"
   ]
  },
  {
   "cell_type": "code",
   "execution_count": 27,
   "metadata": {},
   "outputs": [],
   "source": [
    "eager_df = pl.read_csv(\"../nyc_cab_data.csv\", n_rows=10_000_000)"
   ]
  },
  {
   "cell_type": "code",
   "execution_count": 28,
   "metadata": {},
   "outputs": [],
   "source": [
    "# Data Manipulation\n",
    "# 1. drop nulls\n",
    "# 2. change field data types - with_column\n",
    "from polars import datatypes as dt\n",
    "eager_df = eager_df.with_columns(\n",
    "    pl.selectors.contains(\"_datetime\").cast(dt.Datetime) # => 2. usage of selectors for selecting multiple columns based on name\n",
    ").drop_nulls().sort(\"request_datetime\") # => 1. drop null values in generic way"
   ]
  },
  {
   "cell_type": "code",
   "execution_count": 31,
   "metadata": {},
   "outputs": [],
   "source": [
    "# insights\n",
    "# 1. Average trip time \n",
    "# 2. Average passenger fare, tips\n",
    "\n",
    "analysis = (\n",
    "    eager_df.group_by(\"hvfhs_license_num\")\n",
    "    .agg(\n",
    "        pl.col(\"trip_time\").mean().alias(\"avg_time\"),\n",
    "        pl.col(\"base_passenger_fare\").mean().alias(\"avg bpf\"),\n",
    "        pl.col(\"tips\").mean().alias(\"avg tips\")\n",
    "        )\n",
    ")\n"
   ]
  },
  {
   "cell_type": "code",
   "execution_count": 36,
   "metadata": {},
   "outputs": [],
   "source": [
    "# 3. Day with more number of trips\n",
    "date_filter = (\n",
    "    eager_df.group_by(\n",
    "        pl.col(\"request_datetime\").cast(dt.Date)\n",
    "    )\n",
    "    .agg(\n",
    "        pl.count(\"request_datetime\").alias(\"trip_counts\")\n",
    "    )\n",
    "    .sort(\n",
    "        by=\"trip_counts\", descending=True\n",
    "    )\n",
    "    .head(5)\n",
    "    )"
   ]
  }
 ],
 "metadata": {
  "kernelspec": {
   "display_name": "venv",
   "language": "python",
   "name": "python3"
  },
  "language_info": {
   "codemirror_mode": {
    "name": "ipython",
    "version": 3
   },
   "file_extension": ".py",
   "mimetype": "text/x-python",
   "name": "python",
   "nbconvert_exporter": "python",
   "pygments_lexer": "ipython3",
   "version": "3.11.5"
  }
 },
 "nbformat": 4,
 "nbformat_minor": 2
}
