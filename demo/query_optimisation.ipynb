{
 "cells": [
  {
   "cell_type": "code",
   "execution_count": null,
   "metadata": {},
   "outputs": [],
   "source": [
    "import polars as pl\n",
    "from collections import OrderedDict\n",
    "from polars import datatypes as dt"
   ]
  },
  {
   "cell_type": "code",
   "execution_count": null,
   "metadata": {},
   "outputs": [],
   "source": [
    "df = pl.scan_csv(\"../nyc_cab_data.csv\")"
   ]
  },
  {
   "cell_type": "code",
   "execution_count": null,
   "metadata": {},
   "outputs": [],
   "source": [
    "df.schema"
   ]
  },
  {
   "cell_type": "code",
   "execution_count": null,
   "metadata": {},
   "outputs": [],
   "source": [
    "(\n",
    "    df.with_columns(\n",
    "        pl.col(\"request_datetime\").cast(dt.Datetime, strict=True),\n",
    "        pl.col(\"on_scene_datetime\").cast(dt.Datetime, strict=True),\n",
    "        pl.col(\"pickup_datetime\").cast(dt.Datetime, strict=True),\n",
    "        pl.col(\"dropoff_datetime\").cast(dt.Datetime, strict=True),\n",
    "    ).sort(pl.col(\"request_datetime\"))\n",
    "    .group_by(pl.col(\"PULocationID\"))\n",
    "    .agg(\n",
    "        pl.mean(\"trip_time\"),\n",
    "        pl.sum(\"trip_time\").alias(\"total_trip_time\")\n",
    "    )\n",
    ").show_graph(optimized=True)"
   ]
  },
  {
   "cell_type": "code",
   "execution_count": null,
   "metadata": {},
   "outputs": [],
   "source": [
    "(\n",
    "    df.with_columns(\n",
    "        pl.col(\"request_datetime\").cast(dt.Datetime, strict=True),\n",
    "        pl.col(\"on_scene_datetime\").cast(dt.Datetime, strict=True),\n",
    "        pl.col(\"pickup_datetime\").cast(dt.Datetime, strict=True),\n",
    "        pl.col(\"dropoff_datetime\").cast(dt.Datetime, strict=True),\n",
    "    ).sort(pl.col(\"request_datetime\"))\n",
    "    .group_by(pl.col(\"PULocationID\"))\n",
    "    .agg(\n",
    "        pl.mean(\"trip_time\"),\n",
    "        pl.sum(\"trip_time\").alias(\"total_trip_time\")\n",
    "    )\n",
    ").show_graph(optimized=False)"
   ]
  },
  {
   "cell_type": "code",
   "execution_count": null,
   "metadata": {},
   "outputs": [],
   "source": [
    "(\n",
    "    df.with_columns(\n",
    "        pl.col(\"request_datetime\").cast(dt.Datetime, strict=True),\n",
    "        pl.col(\"on_scene_datetime\").cast(dt.Datetime, strict=True),\n",
    "        pl.col(\"pickup_datetime\").cast(dt.Datetime, strict=True),\n",
    "        pl.col(\"dropoff_datetime\").cast(dt.Datetime, strict=True),\n",
    "    ).sort(pl.col(\"request_datetime\"))\n",
    "    .group_by(pl.col(\"PULocationID\"))\n",
    "    .agg(\n",
    "        pl.mean(\"trip_time\"),\n",
    "        pl.sum(\"trip_time\").alias(\"total_trip_time\")\n",
    "    )\n",
    ").collect(no_optimization=True)"
   ]
  }
 ],
 "metadata": {
  "kernelspec": {
   "display_name": "venv",
   "language": "python",
   "name": "python3"
  },
  "language_info": {
   "codemirror_mode": {
    "name": "ipython",
    "version": 3
   },
   "file_extension": ".py",
   "mimetype": "text/x-python",
   "name": "python",
   "nbconvert_exporter": "python",
   "pygments_lexer": "ipython3",
   "version": "3.11.5"
  }
 },
 "nbformat": 4,
 "nbformat_minor": 2
}
