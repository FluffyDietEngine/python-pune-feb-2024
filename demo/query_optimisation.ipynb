{
 "cells": [
  {
   "cell_type": "code",
   "execution_count": 1,
   "metadata": {},
   "outputs": [],
   "source": [
    "import polars as pl\n",
    "from collections import OrderedDict\n",
    "from polars import datatypes as dt"
   ]
  },
  {
   "cell_type": "code",
   "execution_count": 4,
   "metadata": {},
   "outputs": [],
   "source": [
    "df = pl.scan_csv(\"../nyc_cab_data.csv\")"
   ]
  },
  {
   "cell_type": "code",
   "execution_count": 11,
   "metadata": {},
   "outputs": [
    {
     "data": {
      "text/html": [
       "<div><style>\n",
       ".dataframe > thead > tr,\n",
       ".dataframe > tbody > tr {\n",
       "  text-align: right;\n",
       "  white-space: pre-wrap;\n",
       "}\n",
       "</style>\n",
       "<small>shape: (9, 25)</small><table border=\"1\" class=\"dataframe\"><thead><tr><th>statistic</th><th>hvfhs_license_num</th><th>dispatching_base_num</th><th>originating_base_num</th><th>request_datetime</th><th>on_scene_datetime</th><th>pickup_datetime</th><th>dropoff_datetime</th><th>PULocationID</th><th>DOLocationID</th><th>trip_miles</th><th>trip_time</th><th>base_passenger_fare</th><th>tolls</th><th>bcf</th><th>sales_tax</th><th>congestion_surcharge</th><th>airport_fee</th><th>tips</th><th>driver_pay</th><th>shared_request_flag</th><th>shared_match_flag</th><th>access_a_ride_flag</th><th>wav_request_flag</th><th>wav_match_flag</th></tr><tr><td>str</td><td>str</td><td>str</td><td>str</td><td>str</td><td>str</td><td>str</td><td>str</td><td>f64</td><td>f64</td><td>f64</td><td>f64</td><td>f64</td><td>f64</td><td>f64</td><td>f64</td><td>f64</td><td>f64</td><td>f64</td><td>f64</td><td>str</td><td>str</td><td>str</td><td>str</td><td>str</td></tr></thead><tbody><tr><td>&quot;count&quot;</td><td>&quot;18479031&quot;</td><td>&quot;18479031&quot;</td><td>&quot;13587039&quot;</td><td>&quot;18479031&quot;</td><td>&quot;13587039&quot;</td><td>&quot;18479031&quot;</td><td>&quot;18479031&quot;</td><td>1.8479031e7</td><td>1.8479031e7</td><td>1.8479031e7</td><td>1.8479031e7</td><td>1.8479031e7</td><td>1.8479031e7</td><td>1.8479031e7</td><td>1.8479031e7</td><td>1.8479031e7</td><td>1.8479031e7</td><td>1.8479031e7</td><td>1.8479031e7</td><td>&quot;18479031&quot;</td><td>&quot;18479031&quot;</td><td>&quot;18479031&quot;</td><td>&quot;18479031&quot;</td><td>&quot;18479031&quot;</td></tr><tr><td>&quot;null_count&quot;</td><td>&quot;0&quot;</td><td>&quot;0&quot;</td><td>&quot;4891992&quot;</td><td>&quot;0&quot;</td><td>&quot;4891992&quot;</td><td>&quot;0&quot;</td><td>&quot;0&quot;</td><td>0.0</td><td>0.0</td><td>0.0</td><td>0.0</td><td>0.0</td><td>0.0</td><td>0.0</td><td>0.0</td><td>0.0</td><td>0.0</td><td>0.0</td><td>0.0</td><td>&quot;0&quot;</td><td>&quot;0&quot;</td><td>&quot;0&quot;</td><td>&quot;0&quot;</td><td>&quot;0&quot;</td></tr><tr><td>&quot;mean&quot;</td><td>null</td><td>null</td><td>null</td><td>null</td><td>null</td><td>null</td><td>null</td><td>139.310488</td><td>142.68349</td><td>4.870138</td><td>1094.634034</td><td>21.555652</td><td>1.034738</td><td>0.681976</td><td>1.830261</td><td>1.115767</td><td>0.190491</td><td>0.977665</td><td>16.784667</td><td>null</td><td>null</td><td>null</td><td>null</td><td>null</td></tr><tr><td>&quot;std&quot;</td><td>null</td><td>null</td><td>null</td><td>null</td><td>null</td><td>null</td><td>null</td><td>75.105315</td><td>78.039054</td><td>5.655499</td><td>745.330416</td><td>18.01144</td><td>3.757672</td><td>0.609669</td><td>1.487345</td><td>1.349234</td><td>0.665083</td><td>2.788658</td><td>14.182204</td><td>null</td><td>null</td><td>null</td><td>null</td><td>null</td></tr><tr><td>&quot;min&quot;</td><td>&quot;HV0003&quot;</td><td>&quot;B02764&quot;</td><td>&quot;B02026&quot;</td><td>&quot;2022-12-31T20:…</td><td>&quot;2022-12-31T21:…</td><td>&quot;2023-01-01T00:…</td><td>&quot;2023-01-01T00:…</td><td>1.0</td><td>1.0</td><td>0.0</td><td>0.0</td><td>-146.34</td><td>0.0</td><td>0.0</td><td>0.0</td><td>0.0</td><td>0.0</td><td>0.0</td><td>-102.15</td><td>&quot;N&quot;</td><td>&quot;N&quot;</td><td>&quot; &quot;</td><td>&quot;N&quot;</td><td>&quot;N&quot;</td></tr><tr><td>&quot;25%&quot;</td><td>null</td><td>null</td><td>null</td><td>null</td><td>null</td><td>null</td><td>null</td><td>75.0</td><td>76.0</td><td>1.55</td><td>575.0</td><td>10.43</td><td>0.0</td><td>0.31</td><td>0.87</td><td>0.0</td><td>0.0</td><td>0.0</td><td>7.7</td><td>null</td><td>null</td><td>null</td><td>null</td><td>null</td></tr><tr><td>&quot;50%&quot;</td><td>null</td><td>null</td><td>null</td><td>null</td><td>null</td><td>null</td><td>null</td><td>140.0</td><td>142.0</td><td>2.897</td><td>906.0</td><td>16.26</td><td>0.0</td><td>0.49</td><td>1.39</td><td>0.0</td><td>0.0</td><td>0.0</td><td>12.61</td><td>null</td><td>null</td><td>null</td><td>null</td><td>null</td></tr><tr><td>&quot;75%&quot;</td><td>null</td><td>null</td><td>null</td><td>null</td><td>null</td><td>null</td><td>null</td><td>211.0</td><td>220.0</td><td>6.015</td><td>1404.0</td><td>26.17</td><td>0.0</td><td>0.81</td><td>2.27</td><td>2.75</td><td>0.0</td><td>0.0</td><td>20.99</td><td>null</td><td>null</td><td>null</td><td>null</td><td>null</td></tr><tr><td>&quot;max&quot;</td><td>&quot;HV0005&quot;</td><td>&quot;B03406&quot;</td><td>&quot;B03406&quot;</td><td>&quot;2023-02-01T00:…</td><td>&quot;2023-01-31T23:…</td><td>&quot;2023-01-31T23:…</td><td>&quot;2023-02-01T01:…</td><td>265.0</td><td>265.0</td><td>407.563</td><td>35359.0</td><td>1455.12</td><td>184.37</td><td>64.71</td><td>120.91</td><td>8.25</td><td>6.9</td><td>180.53</td><td>1285.04</td><td>&quot;Y&quot;</td><td>&quot;Y&quot;</td><td>&quot;N&quot;</td><td>&quot;Y&quot;</td><td>&quot;Y&quot;</td></tr></tbody></table></div>"
      ],
      "text/plain": [
       "shape: (9, 25)\n",
       "┌───────────┬───────────┬───────────┬───────────┬───┬───────────┬───────────┬───────────┬──────────┐\n",
       "│ statistic ┆ hvfhs_lic ┆ dispatchi ┆ originati ┆ … ┆ shared_ma ┆ access_a_ ┆ wav_reque ┆ wav_matc │\n",
       "│ ---       ┆ ense_num  ┆ ng_base_n ┆ ng_base_n ┆   ┆ tch_flag  ┆ ride_flag ┆ st_flag   ┆ h_flag   │\n",
       "│ str       ┆ ---       ┆ um        ┆ um        ┆   ┆ ---       ┆ ---       ┆ ---       ┆ ---      │\n",
       "│           ┆ str       ┆ ---       ┆ ---       ┆   ┆ str       ┆ str       ┆ str       ┆ str      │\n",
       "│           ┆           ┆ str       ┆ str       ┆   ┆           ┆           ┆           ┆          │\n",
       "╞═══════════╪═══════════╪═══════════╪═══════════╪═══╪═══════════╪═══════════╪═══════════╪══════════╡\n",
       "│ count     ┆ 18479031  ┆ 18479031  ┆ 13587039  ┆ … ┆ 18479031  ┆ 18479031  ┆ 18479031  ┆ 18479031 │\n",
       "│ null_coun ┆ 0         ┆ 0         ┆ 4891992   ┆ … ┆ 0         ┆ 0         ┆ 0         ┆ 0        │\n",
       "│ t         ┆           ┆           ┆           ┆   ┆           ┆           ┆           ┆          │\n",
       "│ mean      ┆ null      ┆ null      ┆ null      ┆ … ┆ null      ┆ null      ┆ null      ┆ null     │\n",
       "│ std       ┆ null      ┆ null      ┆ null      ┆ … ┆ null      ┆ null      ┆ null      ┆ null     │\n",
       "│ min       ┆ HV0003    ┆ B02764    ┆ B02026    ┆ … ┆ N         ┆           ┆ N         ┆ N        │\n",
       "│ 25%       ┆ null      ┆ null      ┆ null      ┆ … ┆ null      ┆ null      ┆ null      ┆ null     │\n",
       "│ 50%       ┆ null      ┆ null      ┆ null      ┆ … ┆ null      ┆ null      ┆ null      ┆ null     │\n",
       "│ 75%       ┆ null      ┆ null      ┆ null      ┆ … ┆ null      ┆ null      ┆ null      ┆ null     │\n",
       "│ max       ┆ HV0005    ┆ B03406    ┆ B03406    ┆ … ┆ Y         ┆ N         ┆ Y         ┆ Y        │\n",
       "└───────────┴───────────┴───────────┴───────────┴───┴───────────┴───────────┴───────────┴──────────┘"
      ]
     },
     "execution_count": 11,
     "metadata": {},
     "output_type": "execute_result"
    }
   ],
   "source": [
    "df.describe()"
   ]
  },
  {
   "cell_type": "code",
   "execution_count": 5,
   "metadata": {},
   "outputs": [
    {
     "data": {
      "image/svg+xml": [
       "<svg xmlns=\"http://www.w3.org/2000/svg\" xmlns:xlink=\"http://www.w3.org/1999/xlink\" width=\"458pt\" height=\"303pt\" viewBox=\"0.00 0.00 458.25 303.00\">\n",
       "<g id=\"graph0\" class=\"graph\" transform=\"scale(1 1) rotate(0) translate(4 299)\">\n",
       "<title>polars_query</title>\n",
       "<polygon fill=\"white\" stroke=\"none\" points=\"-4,4 -4,-299 454.25,-299 454.25,4 -4,4\"/>\n",
       "<!-- AGG [col(&quot;trip_time&quot;).mean(), col(&quot;trip_time&quot;).sum().alias(&quot;total_trip_time&quot;)]\n",
       "BY\n",
       "[col(&quot;PULocationID&quot;)] [(0, 0)] [(0, 0)] -->\n",
       "<g id=\"node1\" class=\"node\">\n",
       "<title>AGG [col(&quot;trip_time&quot;).mean(), col(&quot;trip_time&quot;).sum().alias(&quot;total_trip_time&quot;)]\n",
       "BY\n",
       "[col(&quot;PULocationID&quot;)] [(0, 0)] [(0, 0)]</title>\n",
       "<polygon fill=\"none\" stroke=\"black\" points=\"450.25,-295 0,-295 0,-237.5 450.25,-237.5 450.25,-295\"/>\n",
       "<text text-anchor=\"middle\" x=\"225.13\" y=\"-277.7\" font-family=\"Times,serif\" font-size=\"14.00\">AGG [col(&quot;trip_time&quot;).mean(), col(&quot;trip_time&quot;).sum().alias(&quot;total_trip_time&quot;)]</text>\n",
       "<text text-anchor=\"middle\" x=\"225.13\" y=\"-261.2\" font-family=\"Times,serif\" font-size=\"14.00\">BY</text>\n",
       "<text text-anchor=\"middle\" x=\"225.13\" y=\"-244.7\" font-family=\"Times,serif\" font-size=\"14.00\">[col(&quot;PULocationID&quot;)] [(0, 0)]</text>\n",
       "</g>\n",
       "<!-- SORT BY [col(&quot;request_datetime&quot;)] [(0, 1)] -->\n",
       "<g id=\"node2\" class=\"node\">\n",
       "<title>SORT BY [col(&quot;request_datetime&quot;)] [(0, 1)]</title>\n",
       "<polygon fill=\"none\" stroke=\"black\" points=\"332.5,-201.5 117.75,-201.5 117.75,-165.5 332.5,-165.5 332.5,-201.5\"/>\n",
       "<text text-anchor=\"middle\" x=\"225.13\" y=\"-178.45\" font-family=\"Times,serif\" font-size=\"14.00\">SORT BY [col(&quot;request_datetime&quot;)]</text>\n",
       "</g>\n",
       "<!-- AGG [col(&quot;trip_time&quot;).mean(), col(&quot;trip_time&quot;).sum().alias(&quot;total_trip_time&quot;)]\n",
       "BY\n",
       "[col(&quot;PULocationID&quot;)] [(0, 0)] [(0, 0)]&#45;&#45;SORT BY [col(&quot;request_datetime&quot;)] [(0, 1)] -->\n",
       "<g id=\"edge1\" class=\"edge\">\n",
       "<title>AGG [col(&quot;trip_time&quot;).mean(), col(&quot;trip_time&quot;).sum().alias(&quot;total_trip_time&quot;)]\n",
       "BY\n",
       "[col(&quot;PULocationID&quot;)] [(0, 0)] [(0, 0)]--SORT BY [col(&quot;request_datetime&quot;)] [(0, 1)]</title>\n",
       "<path fill=\"none\" stroke=\"black\" d=\"M225.13,-237.01C225.13,-225.18 225.13,-211.83 225.13,-201.54\"/>\n",
       "</g>\n",
       "<!-- WITH COLUMNS [&quot;request_datetime&quot;] [(0, 2)] -->\n",
       "<g id=\"node3\" class=\"node\">\n",
       "<title>WITH COLUMNS [&quot;request_datetime&quot;] [(0, 2)]</title>\n",
       "<polygon fill=\"none\" stroke=\"black\" points=\"345.25,-129.5 105,-129.5 105,-93.5 345.25,-93.5 345.25,-129.5\"/>\n",
       "<text text-anchor=\"middle\" x=\"225.13\" y=\"-106.45\" font-family=\"Times,serif\" font-size=\"14.00\">WITH COLUMNS [&quot;request_datetime&quot;]</text>\n",
       "</g>\n",
       "<!-- SORT BY [col(&quot;request_datetime&quot;)] [(0, 1)]&#45;&#45;WITH COLUMNS [&quot;request_datetime&quot;] [(0, 2)] -->\n",
       "<g id=\"edge2\" class=\"edge\">\n",
       "<title>SORT BY [col(&quot;request_datetime&quot;)] [(0, 1)]--WITH COLUMNS [&quot;request_datetime&quot;] [(0, 2)]</title>\n",
       "<path fill=\"none\" stroke=\"black\" d=\"M225.13,-165.2C225.13,-154.35 225.13,-140.42 225.13,-129.6\"/>\n",
       "</g>\n",
       "<!-- Csv SCAN ../nyc_cab_data.csv;\n",
       "π 3/24;\n",
       "σ &#45; [(0, 3)] -->\n",
       "<g id=\"node4\" class=\"node\">\n",
       "<title>Csv SCAN ../nyc_cab_data.csv;\n",
       "π 3/24;\n",
       "σ - [(0, 3)]</title>\n",
       "<polygon fill=\"none\" stroke=\"black\" points=\"320.88,-57.5 129.38,-57.5 129.38,0 320.88,0 320.88,-57.5\"/>\n",
       "<text text-anchor=\"middle\" x=\"225.13\" y=\"-40.2\" font-family=\"Times,serif\" font-size=\"14.00\">Csv SCAN ../nyc_cab_data.csv;</text>\n",
       "<text text-anchor=\"middle\" x=\"225.13\" y=\"-23.7\" font-family=\"Times,serif\" font-size=\"14.00\">π 3/24;</text>\n",
       "<text text-anchor=\"middle\" x=\"225.13\" y=\"-7.2\" font-family=\"Times,serif\" font-size=\"14.00\">σ -</text>\n",
       "</g>\n",
       "<!-- WITH COLUMNS [&quot;request_datetime&quot;] [(0, 2)]&#45;&#45;Csv SCAN ../nyc_cab_data.csv;\n",
       "π 3/24;\n",
       "σ &#45; [(0, 3)] -->\n",
       "<g id=\"edge3\" class=\"edge\">\n",
       "<title>WITH COLUMNS [&quot;request_datetime&quot;] [(0, 2)]--Csv SCAN ../nyc_cab_data.csv;\n",
       "π 3/24;\n",
       "σ - [(0, 3)]</title>\n",
       "<path fill=\"none\" stroke=\"black\" d=\"M225.13,-93.38C225.13,-83.1 225.13,-69.77 225.13,-57.97\"/>\n",
       "</g>\n",
       "</g>\n",
       "</svg>"
      ],
      "text/plain": [
       "<IPython.core.display.SVG object>"
      ]
     },
     "metadata": {},
     "output_type": "display_data"
    }
   ],
   "source": [
    "(\n",
    "    df.with_columns(\n",
    "        pl.col(\"request_datetime\").cast(dt.Datetime, strict=True),\n",
    "        pl.col(\"on_scene_datetime\").cast(dt.Datetime, strict=True),\n",
    "        pl.col(\"pickup_datetime\").cast(dt.Datetime, strict=True),\n",
    "        pl.col(\"dropoff_datetime\").cast(dt.Datetime, strict=True),\n",
    "    ).sort(pl.col(\"request_datetime\"))\n",
    "    .group_by(pl.col(\"PULocationID\"))\n",
    "    .agg(\n",
    "        pl.mean(\"trip_time\"),\n",
    "        pl.sum(\"trip_time\").alias(\"total_trip_time\")\n",
    "    )\n",
    ").show_graph(optimized=True)"
   ]
  },
  {
   "cell_type": "code",
   "execution_count": 6,
   "metadata": {},
   "outputs": [
    {
     "data": {
      "image/svg+xml": [
       "<svg xmlns=\"http://www.w3.org/2000/svg\" xmlns:xlink=\"http://www.w3.org/1999/xlink\" width=\"585pt\" height=\"303pt\" viewBox=\"0.00 0.00 585.00 303.00\">\n",
       "<g id=\"graph0\" class=\"graph\" transform=\"scale(1 1) rotate(0) translate(4 299)\">\n",
       "<title>polars_query</title>\n",
       "<polygon fill=\"white\" stroke=\"none\" points=\"-4,4 -4,-299 581,-299 581,4 -4,4\"/>\n",
       "<!-- AGG [col(&quot;trip_time&quot;).mean(), col(&quot;trip_time&quot;).sum().alias(&quot;total_trip_time&quot;)]\n",
       "BY\n",
       "[col(&quot;PULocationID&quot;)] [(0, 0)] [(0, 0)] -->\n",
       "<g id=\"node1\" class=\"node\">\n",
       "<title>AGG [col(&quot;trip_time&quot;).mean(), col(&quot;trip_time&quot;).sum().alias(&quot;total_trip_time&quot;)]\n",
       "BY\n",
       "[col(&quot;PULocationID&quot;)] [(0, 0)] [(0, 0)]</title>\n",
       "<polygon fill=\"none\" stroke=\"black\" points=\"513.62,-295 63.37,-295 63.37,-237.5 513.62,-237.5 513.62,-295\"/>\n",
       "<text text-anchor=\"middle\" x=\"288.5\" y=\"-277.7\" font-family=\"Times,serif\" font-size=\"14.00\">AGG [col(&quot;trip_time&quot;).mean(), col(&quot;trip_time&quot;).sum().alias(&quot;total_trip_time&quot;)]</text>\n",
       "<text text-anchor=\"middle\" x=\"288.5\" y=\"-261.2\" font-family=\"Times,serif\" font-size=\"14.00\">BY</text>\n",
       "<text text-anchor=\"middle\" x=\"288.5\" y=\"-244.7\" font-family=\"Times,serif\" font-size=\"14.00\">[col(&quot;PULocationID&quot;)] [(0, 0)]</text>\n",
       "</g>\n",
       "<!-- SORT BY [col(&quot;request_datetime&quot;)] [(0, 1)] -->\n",
       "<g id=\"node2\" class=\"node\">\n",
       "<title>SORT BY [col(&quot;request_datetime&quot;)] [(0, 1)]</title>\n",
       "<polygon fill=\"none\" stroke=\"black\" points=\"395.88,-201.5 181.12,-201.5 181.12,-165.5 395.88,-165.5 395.88,-201.5\"/>\n",
       "<text text-anchor=\"middle\" x=\"288.5\" y=\"-178.45\" font-family=\"Times,serif\" font-size=\"14.00\">SORT BY [col(&quot;request_datetime&quot;)]</text>\n",
       "</g>\n",
       "<!-- AGG [col(&quot;trip_time&quot;).mean(), col(&quot;trip_time&quot;).sum().alias(&quot;total_trip_time&quot;)]\n",
       "BY\n",
       "[col(&quot;PULocationID&quot;)] [(0, 0)] [(0, 0)]&#45;&#45;SORT BY [col(&quot;request_datetime&quot;)] [(0, 1)] -->\n",
       "<g id=\"edge1\" class=\"edge\">\n",
       "<title>AGG [col(&quot;trip_time&quot;).mean(), col(&quot;trip_time&quot;).sum().alias(&quot;total_trip_time&quot;)]\n",
       "BY\n",
       "[col(&quot;PULocationID&quot;)] [(0, 0)] [(0, 0)]--SORT BY [col(&quot;request_datetime&quot;)] [(0, 1)]</title>\n",
       "<path fill=\"none\" stroke=\"black\" d=\"M288.5,-237.01C288.5,-225.18 288.5,-211.83 288.5,-201.54\"/>\n",
       "</g>\n",
       "<!-- WITH COLUMNS [&quot;request_datetime&quot;,&quot;on_scene_datetime&quot;,&quot;pickup_datetime&quot;,&quot;dropoff_datetime&quot;] [(0, 2)] -->\n",
       "<g id=\"node3\" class=\"node\">\n",
       "<title>WITH COLUMNS [&quot;request_datetime&quot;,&quot;on_scene_datetime&quot;,&quot;pickup_datetime&quot;,&quot;dropoff_datetime&quot;] [(0, 2)]</title>\n",
       "<polygon fill=\"none\" stroke=\"black\" points=\"577,-129.5 0,-129.5 0,-93.5 577,-93.5 577,-129.5\"/>\n",
       "<text text-anchor=\"middle\" x=\"288.5\" y=\"-106.45\" font-family=\"Times,serif\" font-size=\"14.00\">WITH COLUMNS [&quot;request_datetime&quot;,&quot;on_scene_datetime&quot;,&quot;pickup_datetime&quot;,&quot;dropoff_datetime&quot;]</text>\n",
       "</g>\n",
       "<!-- SORT BY [col(&quot;request_datetime&quot;)] [(0, 1)]&#45;&#45;WITH COLUMNS [&quot;request_datetime&quot;,&quot;on_scene_datetime&quot;,&quot;pickup_datetime&quot;,&quot;dropoff_datetime&quot;] [(0, 2)] -->\n",
       "<g id=\"edge2\" class=\"edge\">\n",
       "<title>SORT BY [col(&quot;request_datetime&quot;)] [(0, 1)]--WITH COLUMNS [&quot;request_datetime&quot;,&quot;on_scene_datetime&quot;,&quot;pickup_datetime&quot;,&quot;dropoff_datetime&quot;] [(0, 2)]</title>\n",
       "<path fill=\"none\" stroke=\"black\" d=\"M288.5,-165.2C288.5,-154.35 288.5,-140.42 288.5,-129.6\"/>\n",
       "</g>\n",
       "<!-- Csv SCAN ../nyc_cab_data.csv;\n",
       "π */24;\n",
       "σ &#45; [(0, 3)] -->\n",
       "<g id=\"node4\" class=\"node\">\n",
       "<title>Csv SCAN ../nyc_cab_data.csv;\n",
       "π */24;\n",
       "σ - [(0, 3)]</title>\n",
       "<polygon fill=\"none\" stroke=\"black\" points=\"384.25,-57.5 192.75,-57.5 192.75,0 384.25,0 384.25,-57.5\"/>\n",
       "<text text-anchor=\"middle\" x=\"288.5\" y=\"-40.2\" font-family=\"Times,serif\" font-size=\"14.00\">Csv SCAN ../nyc_cab_data.csv;</text>\n",
       "<text text-anchor=\"middle\" x=\"288.5\" y=\"-23.7\" font-family=\"Times,serif\" font-size=\"14.00\">π */24;</text>\n",
       "<text text-anchor=\"middle\" x=\"288.5\" y=\"-7.2\" font-family=\"Times,serif\" font-size=\"14.00\">σ -</text>\n",
       "</g>\n",
       "<!-- WITH COLUMNS [&quot;request_datetime&quot;,&quot;on_scene_datetime&quot;,&quot;pickup_datetime&quot;,&quot;dropoff_datetime&quot;] [(0, 2)]&#45;&#45;Csv SCAN ../nyc_cab_data.csv;\n",
       "π */24;\n",
       "σ &#45; [(0, 3)] -->\n",
       "<g id=\"edge3\" class=\"edge\">\n",
       "<title>WITH COLUMNS [&quot;request_datetime&quot;,&quot;on_scene_datetime&quot;,&quot;pickup_datetime&quot;,&quot;dropoff_datetime&quot;] [(0, 2)]--Csv SCAN ../nyc_cab_data.csv;\n",
       "π */24;\n",
       "σ - [(0, 3)]</title>\n",
       "<path fill=\"none\" stroke=\"black\" d=\"M288.5,-93.38C288.5,-83.1 288.5,-69.77 288.5,-57.97\"/>\n",
       "</g>\n",
       "</g>\n",
       "</svg>"
      ],
      "text/plain": [
       "<IPython.core.display.SVG object>"
      ]
     },
     "metadata": {},
     "output_type": "display_data"
    }
   ],
   "source": [
    "(\n",
    "    df.with_columns(\n",
    "        pl.col(\"request_datetime\").cast(dt.Datetime, strict=True),\n",
    "        pl.col(\"on_scene_datetime\").cast(dt.Datetime, strict=True),\n",
    "        pl.col(\"pickup_datetime\").cast(dt.Datetime, strict=True),\n",
    "        pl.col(\"dropoff_datetime\").cast(dt.Datetime, strict=True),\n",
    "    ).sort(pl.col(\"request_datetime\"))\n",
    "    .group_by(pl.col(\"PULocationID\"))\n",
    "    .agg(\n",
    "        pl.mean(\"trip_time\"),\n",
    "        pl.sum(\"trip_time\").alias(\"total_trip_time\")\n",
    "    )\n",
    ").show_graph(optimized=False)"
   ]
  },
  {
   "cell_type": "code",
   "execution_count": null,
   "metadata": {},
   "outputs": [],
   "source": [
    "(\n",
    "    df.with_columns(\n",
    "        pl.col(\"request_datetime\").cast(dt.Datetime, strict=True),\n",
    "        pl.col(\"on_scene_datetime\").cast(dt.Datetime, strict=True),\n",
    "        pl.col(\"pickup_datetime\").cast(dt.Datetime, strict=True),\n",
    "        pl.col(\"dropoff_datetime\").cast(dt.Datetime, strict=True),\n",
    "    ).sort(pl.col(\"request_datetime\"))\n",
    "    .group_by(pl.col(\"PULocationID\"))\n",
    "    .agg(\n",
    "        pl.mean(\"trip_time\"),\n",
    "        pl.sum(\"trip_time\").alias(\"total_trip_time\")\n",
    "    )\n",
    ").collect(no_optimization=True)"
   ]
  }
 ],
 "metadata": {
  "kernelspec": {
   "display_name": "venv",
   "language": "python",
   "name": "python3"
  },
  "language_info": {
   "codemirror_mode": {
    "name": "ipython",
    "version": 3
   },
   "file_extension": ".py",
   "mimetype": "text/x-python",
   "name": "python",
   "nbconvert_exporter": "python",
   "pygments_lexer": "ipython3",
   "version": "3.11.5"
  }
 },
 "nbformat": 4,
 "nbformat_minor": 2
}
